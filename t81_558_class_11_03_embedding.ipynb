{
 "cells": [
  {
   "cell_type": "markdown",
   "metadata": {},
   "source": [
    "# T81-558: Applications of Deep Neural Networks\n",
    "**Module 11: Natural Language Processing and Speech Recognition**\n",
    "* Instructor: [Jeff Heaton](https://sites.wustl.edu/jeffheaton/), McKelvey School of Engineering, [Washington University in St. Louis](https://engineering.wustl.edu/Programs/Pages/default.aspx)\n",
    "* For more information visit the [class website](https://sites.wustl.edu/jeffheaton/t81-558/)."
   ]
  },
  {
   "cell_type": "markdown",
   "metadata": {},
   "source": [
    "# Module 11 Material\n",
    "\n",
    "* Part 11.1: Getting Started with Spacy in Python [[Video]](https://www.youtube.com/watch?v=bv_iVVrlfbU) [[Notebook]](t81_558_class_11_01_spacy.ipynb)\n",
    "* Part 11.2: Word2Vec and Text Classification [[Video]](https://www.youtube.com/watch?v=qN9hHlZKIL4) [[Notebook]](t81_558_class_11_02_word2vec.ipynb)\n",
    "* **Part 11.3: What are Embedding Layers in Keras** [[Video]](https://www.youtube.com/watch?v=Ae3GVw5nTYU) [[Notebook]](t81_558_class_11_03_embedding.ipynb)\n",
    "* Part 11.4: Natural Language Processing with Spacy and Keras [[Video]](https://www.youtube.com/watch?v=Ae3GVw5nTYU) [[Notebook]](t81_558_class_11_04_text_nlp.ipynb)\n",
    "* Part 11.5: Learning English from Scratch with Keras and TensorFlow [[Video]](https://www.youtube.com/watch?v=Ae3GVw5nTYU) [[Notebook]](t81_558_class_11_05_english_scratch.ipynb)"
   ]
  },
  {
   "cell_type": "markdown",
   "metadata": {},
   "source": [
    "# Part 11.3: What are Embedding Layers in Keras\n",
    "\n",
    "[Embedding Layers](https://keras.io/layers/embeddings/) are a powerful feature of Keras that allow additional information to be automatically inserted into your neural network.  In the previous section you saw that Word2Vec can expand words to a 300 dimension vector.  An embedding layer would allow you to automatically insert these 300-dimension vectors in the place of word-indexes.  \n",
    "\n",
    "Embedding layers are often used with Natural Language Processing (NLP); however, they can be used in any instance where you wish to insert a larger vector in the place of an index value.  In some ways you can think of an embedding layer as dimension expansion. However, the hope is that these additional dimensions will provide more information to the model and provide a better score."
   ]
  },
  {
   "cell_type": "markdown",
   "metadata": {},
   "source": [
    "### Simple Embedding Layer Example\n",
    "\n",
    "* **input_dim** = How large is the vocabulary?  How many categories are you encoding. This is the number of items in your \"lookup table\".\n",
    "* **output_dim** = How many numbers in the vector that you wish to return. \n",
    "* **input_length** = How many items are in the input feature vector that you need to transform?\n",
    "\n",
    "Now we create one that has a vocabulary size of 10, will reduce those values between 0-9 to 4 number vectors.  Each feature vector coming in will have 2 such features.  This neural network does nothing more than pass the embedding on to the output.  But it does let us see what the embedding is doing."
   ]
  },
  {
   "cell_type": "code",
   "execution_count": 1,
   "metadata": {},
   "outputs": [],
   "source": [
    "from tensorflow.keras.models import Sequential\n",
    "from tensorflow.keras.layers import Embedding\n",
    "import numpy as np\n",
    "\n",
    "model = Sequential()\n",
    "embedding_layer = Embedding(input_dim=10, output_dim=4, input_length=2)\n",
    "model.add(embedding_layer)\n",
    "model.compile('adam', 'mse')"
   ]
  },
  {
   "cell_type": "markdown",
   "metadata": {},
   "source": [
    "Now lets query the neural network with 2 rows."
   ]
  },
  {
   "cell_type": "code",
   "execution_count": 2,
   "metadata": {},
   "outputs": [
    {
     "name": "stdout",
     "output_type": "stream",
     "text": [
      "(1, 2)\n",
      "[[[ 0.04763632  0.03387379  0.02331975  0.03487139]\n",
      "  [-0.02743584  0.00659242 -0.03050996  0.00233712]]]\n"
     ]
    }
   ],
   "source": [
    "input_data = np.array([\n",
    "    [1,2]\n",
    "])\n",
    "\n",
    "pred = model.predict(input_data)\n",
    "\n",
    "print(input_data.shape)\n",
    "print(pred)"
   ]
  },
  {
   "cell_type": "code",
   "execution_count": 3,
   "metadata": {},
   "outputs": [
    {
     "data": {
      "text/plain": [
       "[array([[-0.0045323 ,  0.04901491,  0.02596814,  0.02962707],\n",
       "        [ 0.04763632,  0.03387379,  0.02331975,  0.03487139],\n",
       "        [-0.02743584,  0.00659242, -0.03050996,  0.00233712],\n",
       "        [-0.04829236, -0.04555564, -0.0387257 , -0.011488  ],\n",
       "        [-0.02604507, -0.01598718, -0.00531778, -0.04186999],\n",
       "        [-0.00292976,  0.01803044,  0.03412081,  0.03287293],\n",
       "        [ 0.0453856 , -0.01890322, -0.0041332 , -0.02499459],\n",
       "        [-0.03981459,  0.02295792, -0.00151055, -0.04211504],\n",
       "        [ 0.03971988, -0.02347859, -0.02527274,  0.02243959],\n",
       "        [-0.04731938,  0.0447234 , -0.04105244, -0.02245835]],\n",
       "       dtype=float32)]"
      ]
     },
     "execution_count": 3,
     "metadata": {},
     "output_type": "execute_result"
    }
   ],
   "source": [
    "embedding_layer.get_weights()"
   ]
  },
  {
   "cell_type": "markdown",
   "metadata": {},
   "source": [
    "### Transferring An Embedding"
   ]
  },
  {
   "cell_type": "code",
   "execution_count": 4,
   "metadata": {},
   "outputs": [],
   "source": [
    "from tensorflow.keras.models import Sequential\n",
    "from tensorflow.keras.layers import Embedding\n",
    "import numpy as np\n",
    "\n",
    "embedding_lookup = np.array([\n",
    "    [1,0,0],\n",
    "    [0,1,0],\n",
    "    [0,0,1]\n",
    "])\n",
    "\n",
    "model = Sequential()\n",
    "embedding_layer = Embedding(input_dim=3, output_dim=3, input_length=2)\n",
    "model.add(embedding_layer)\n",
    "model.compile('adam', 'mse')\n",
    "\n",
    "embedding_layer.set_weights([embedding_lookup])"
   ]
  },
  {
   "cell_type": "code",
   "execution_count": 5,
   "metadata": {},
   "outputs": [
    {
     "name": "stdout",
     "output_type": "stream",
     "text": [
      "(1, 2)\n",
      "[[[1. 0. 0.]\n",
      "  [0. 1. 0.]]]\n"
     ]
    }
   ],
   "source": [
    "input_data = np.array([\n",
    "    [0,1]\n",
    "])\n",
    "\n",
    "pred = model.predict(input_data)\n",
    "\n",
    "print(input_data.shape)\n",
    "print(pred)"
   ]
  },
  {
   "cell_type": "markdown",
   "metadata": {},
   "source": [
    "### Training an Embedding"
   ]
  },
  {
   "cell_type": "code",
   "execution_count": 6,
   "metadata": {},
   "outputs": [],
   "source": [
    "from numpy import array\n",
    "from tensorflow.keras.preprocessing.text import one_hot\n",
    "from tensorflow.keras.preprocessing.sequence import pad_sequences\n",
    "from tensorflow.keras.models import Sequential\n",
    "from tensorflow.keras.layers import Flatten, Embedding, Dense"
   ]
  },
  {
   "cell_type": "code",
   "execution_count": 7,
   "metadata": {},
   "outputs": [],
   "source": [
    "# Define 10 resturant reviews.\n",
    "reviews = [\n",
    "    'Never coming back!',\n",
    "    'Horrible service',\n",
    "    'Rude waitress',\n",
    "    'Cold food.',\n",
    "    'Horrible food!',\n",
    "    'Awesome',\n",
    "    'Awesome service!',\n",
    "    'Rocks!',\n",
    "    'poor work',\n",
    "    'Couldn\\'t have done better']\n",
    "\n",
    "# Define labels (1=negative, 0=positive)\n",
    "labels = array([1,1,1,1,1,0,0,0,0,0])"
   ]
  },
  {
   "cell_type": "code",
   "execution_count": null,
   "metadata": {},
   "outputs": [],
   "source": []
  },
  {
   "cell_type": "code",
   "execution_count": 8,
   "metadata": {},
   "outputs": [
    {
     "name": "stdout",
     "output_type": "stream",
     "text": [
      "Encoded reviews: [[28, 25, 8], [23, 12], [34, 26], [37, 45], [23, 45], [33], [33, 12], [29], [33, 11], [20, 38, 22, 21]]\n"
     ]
    }
   ],
   "source": [
    "VOCAB_SIZE = 50\n",
    "encoded_reviews = [one_hot(d, VOCAB_SIZE) for d in reviews]\n",
    "print(f\"Encoded reviews: {encoded_reviews}\")"
   ]
  },
  {
   "cell_type": "code",
   "execution_count": 9,
   "metadata": {},
   "outputs": [
    {
     "name": "stdout",
     "output_type": "stream",
     "text": [
      "[[28 25  8  0]\n",
      " [23 12  0  0]\n",
      " [34 26  0  0]\n",
      " [37 45  0  0]\n",
      " [23 45  0  0]\n",
      " [33  0  0  0]\n",
      " [33 12  0  0]\n",
      " [29  0  0  0]\n",
      " [33 11  0  0]\n",
      " [20 38 22 21]]\n"
     ]
    }
   ],
   "source": [
    "MAX_LENGTH = 4\n",
    "\n",
    "padded_reviews = pad_sequences(encoded_reviews, maxlen=MAX_LENGTH, padding='post')\n",
    "print(padded_reviews)"
   ]
  },
  {
   "cell_type": "code",
   "execution_count": 10,
   "metadata": {},
   "outputs": [
    {
     "name": "stdout",
     "output_type": "stream",
     "text": [
      "Model: \"sequential_2\"\n",
      "_________________________________________________________________\n",
      "Layer (type)                 Output Shape              Param #   \n",
      "=================================================================\n",
      "embedding_2 (Embedding)      (None, 4, 8)              400       \n",
      "_________________________________________________________________\n",
      "flatten (Flatten)            (None, 32)                0         \n",
      "_________________________________________________________________\n",
      "dense (Dense)                (None, 1)                 33        \n",
      "=================================================================\n",
      "Total params: 433\n",
      "Trainable params: 433\n",
      "Non-trainable params: 0\n",
      "_________________________________________________________________\n",
      "None\n"
     ]
    }
   ],
   "source": [
    "model = Sequential()\n",
    "embedding_layer = Embedding(VOCAB_SIZE, 8, input_length=MAX_LENGTH)\n",
    "model.add(embedding_layer)\n",
    "model.add(Flatten())\n",
    "model.add(Dense(1, activation='sigmoid'))\n",
    "model.compile(optimizer='adam', loss='binary_crossentropy', metrics=['acc'])\n",
    "\n",
    "print(model.summary())"
   ]
  },
  {
   "cell_type": "code",
   "execution_count": 11,
   "metadata": {},
   "outputs": [
    {
     "data": {
      "text/plain": [
       "<tensorflow.python.keras.callbacks.History at 0xb2c785fd0>"
      ]
     },
     "execution_count": 11,
     "metadata": {},
     "output_type": "execute_result"
    }
   ],
   "source": [
    "# fit the model\n",
    "model.fit(padded_reviews, labels, epochs=100, verbose=0)"
   ]
  },
  {
   "cell_type": "code",
   "execution_count": 12,
   "metadata": {},
   "outputs": [
    {
     "name": "stdout",
     "output_type": "stream",
     "text": [
      "(50, 8)\n",
      "[array([[-1.42880306e-01,  7.46818930e-02,  9.94808897e-02,\n",
      "         1.36440024e-01, -1.48050189e-01,  9.37938169e-02,\n",
      "        -7.04777688e-02,  1.75872326e-01],\n",
      "       [-3.65085602e-02,  3.53831686e-02, -3.70737202e-02,\n",
      "        -3.20171490e-02, -5.22566959e-03, -5.51359728e-03,\n",
      "         3.18039916e-02,  3.27227823e-02],\n",
      "       [-2.28793267e-02,  2.16226839e-02, -1.94333792e-02,\n",
      "        -2.59495024e-02,  2.41860189e-02,  4.36949022e-02,\n",
      "        -1.31914727e-02,  5.95686585e-03],\n",
      "       [-1.07009411e-02,  8.18883255e-03,  1.44555606e-02,\n",
      "        -3.97174582e-02, -2.89748311e-02, -9.09373909e-03,\n",
      "        -4.78551649e-02, -4.53313850e-02],\n",
      "       [-6.10606745e-03,  4.13400196e-02, -3.92818451e-03,\n",
      "        -7.62758404e-03, -2.78581865e-02,  4.35506739e-02,\n",
      "        -8.15489143e-03,  2.98755057e-02],\n",
      "       [ 2.77605541e-02, -2.05098037e-02,  4.89966162e-02,\n",
      "        -1.58568136e-02,  1.38417743e-02,  2.83907726e-03,\n",
      "         6.96331263e-03, -4.34809811e-02],\n",
      "       [ 1.32830851e-02, -4.46596146e-02,  5.19417226e-04,\n",
      "        -1.30552165e-02, -2.13122014e-02,  2.55749375e-03,\n",
      "         1.14947930e-02,  2.83382200e-02],\n",
      "       [ 4.89460342e-02, -1.54909715e-02,  4.86004241e-02,\n",
      "        -2.78925430e-02, -1.08190067e-02,  4.81832512e-02,\n",
      "         4.90469374e-02, -2.53165253e-02],\n",
      "       [-6.95189834e-02,  1.18867233e-01,  1.50153548e-01,\n",
      "        -7.69321769e-02,  1.40787706e-01, -9.15529951e-02,\n",
      "         1.41074091e-01, -1.15408197e-01],\n",
      "       [-4.42633405e-02,  7.89332390e-03,  2.72356160e-02,\n",
      "        -4.43134457e-03, -2.27586031e-02,  4.40979116e-02,\n",
      "        -3.22787538e-02, -3.24286148e-03],\n",
      "       [ 4.10088189e-02, -4.31532972e-02,  2.36045830e-02,\n",
      "         2.14786418e-02, -5.48876449e-03, -2.97203306e-02,\n",
      "        -4.86988537e-02,  1.61415823e-02],\n",
      "       [-1.29476801e-01,  1.60485297e-01,  8.25220346e-02,\n",
      "         1.47372544e-01,  6.02340326e-02,  1.11656643e-01,\n",
      "        -1.16918012e-01,  8.34283382e-02],\n",
      "       [ 2.74520684e-02, -2.10102256e-02,  2.23591051e-05,\n",
      "         4.35186848e-02, -3.46544161e-02,  1.75965149e-02,\n",
      "         2.38666479e-02,  6.59504980e-02],\n",
      "       [ 1.43328570e-02,  1.76607110e-02,  2.28019021e-02,\n",
      "         2.23212577e-02, -4.73128557e-02, -3.55649479e-02,\n",
      "         4.91565205e-02,  4.27426025e-03],\n",
      "       [ 5.68097830e-03, -3.16753536e-02, -1.64784566e-02,\n",
      "         2.00810544e-02,  2.67635919e-02,  8.44782591e-03,\n",
      "         8.21606070e-03,  4.51881774e-02],\n",
      "       [ 2.64679454e-02,  1.71950795e-02, -2.65959986e-02,\n",
      "         1.75487287e-02, -3.36319953e-02,  1.55177452e-02,\n",
      "         2.85080187e-02, -2.71215923e-02],\n",
      "       [-3.70865352e-02,  3.19347866e-02, -9.28371027e-03,\n",
      "         6.26884401e-04,  2.98184194e-02,  5.87383658e-03,\n",
      "         5.53293154e-03, -1.85918435e-02],\n",
      "       [-1.90436002e-02, -2.49555595e-02, -2.65062209e-02,\n",
      "        -6.99939579e-03, -4.77769375e-02,  1.88720338e-02,\n",
      "        -3.34153995e-02, -5.41428477e-03],\n",
      "       [-4.72695231e-02, -3.48228104e-02, -4.19325754e-03,\n",
      "        -3.43340188e-02, -2.57214550e-02,  1.47251748e-02,\n",
      "        -4.09561619e-02,  2.05618776e-02],\n",
      "       [ 4.85994257e-02,  3.35229896e-02,  3.98482345e-02,\n",
      "         8.23437050e-03,  2.57949904e-03,  2.82769278e-03,\n",
      "         2.52091326e-02,  2.99488381e-03],\n",
      "       [ 1.25773326e-01,  5.48226647e-02, -1.11693554e-01,\n",
      "        -8.74384269e-02, -1.23209305e-01, -1.27439335e-01,\n",
      "        -1.24900877e-01, -7.71842003e-02],\n",
      "       [-2.31362339e-02, -1.37321040e-01,  4.46579084e-02,\n",
      "        -5.65813072e-02,  1.07224137e-01, -8.19801986e-02,\n",
      "        -1.41626179e-01,  3.92528959e-02],\n",
      "       [ 1.07654691e-01, -9.60994288e-02, -8.96238908e-02,\n",
      "         5.68088777e-02, -1.08628869e-01,  1.31665468e-01,\n",
      "        -9.24814492e-02,  1.14660338e-01],\n",
      "       [-9.50597376e-02, -1.37520999e-01,  1.11193076e-01,\n",
      "         8.33480060e-02,  8.61925483e-02,  1.26652837e-01,\n",
      "         1.24201797e-01,  5.59947826e-02],\n",
      "       [-3.52820009e-03,  3.21531408e-02,  5.49117476e-03,\n",
      "         2.40955986e-02,  3.34496163e-02,  2.04852708e-02,\n",
      "        -4.04950976e-02, -2.78245937e-02],\n",
      "       [ 6.96907565e-02, -1.30848765e-01, -9.18611586e-02,\n",
      "        -9.26017687e-02, -1.16063982e-01, -7.28969947e-02,\n",
      "         1.07416466e-01, -9.21925008e-02],\n",
      "       [ 1.00176804e-01, -1.40371054e-01, -1.08836904e-01,\n",
      "        -1.50153562e-01, -1.26079395e-01, -8.56592655e-02,\n",
      "         7.32372105e-02, -8.80795866e-02],\n",
      "       [-4.34159152e-02, -4.52200882e-02,  9.48126242e-03,\n",
      "        -1.69044733e-02, -4.89762910e-02,  1.94877870e-02,\n",
      "        -4.07702923e-02,  2.67856009e-02],\n",
      "       [-4.77210656e-02, -1.26267746e-01,  1.04383178e-01,\n",
      "         1.06428288e-01,  1.47833914e-01,  1.46160662e-01,\n",
      "         1.28971323e-01,  1.40816003e-01],\n",
      "       [ 9.92946997e-02,  6.93711787e-02, -1.61126837e-01,\n",
      "        -5.09360172e-02, -7.82150999e-02, -6.13896325e-02,\n",
      "        -5.77804409e-02, -7.79103562e-02],\n",
      "       [-4.43719998e-02,  1.95825733e-02, -2.38366723e-02,\n",
      "         2.06272714e-02,  3.44667546e-02, -3.97472605e-02,\n",
      "        -1.68432593e-02,  3.65442038e-03],\n",
      "       [ 2.20504887e-02, -3.93248908e-02, -8.51993635e-03,\n",
      "        -3.52784619e-02, -3.72587554e-02, -3.28123569e-03,\n",
      "         9.66360420e-03, -3.71709354e-02],\n",
      "       [ 3.49179395e-02,  1.86500438e-02, -4.11191583e-02,\n",
      "         1.03229880e-02,  2.44177319e-02,  2.59730555e-02,\n",
      "        -4.51150909e-02,  5.56043535e-03],\n",
      "       [ 1.43811092e-01,  1.29345283e-01, -6.72503114e-02,\n",
      "        -8.10026973e-02, -9.23612267e-02, -1.50124937e-01,\n",
      "        -1.06840536e-01, -1.02723315e-01],\n",
      "       [-1.14029869e-01, -1.51985809e-01,  1.61157474e-01,\n",
      "         1.04229070e-01,  9.05256197e-02,  5.74001819e-02,\n",
      "         1.49507031e-01,  7.08110332e-02],\n",
      "       [ 4.70795967e-02,  1.18722096e-02,  4.91628796e-03,\n",
      "         3.20555456e-02,  1.65434517e-02, -6.01856783e-03,\n",
      "         5.40841371e-04,  1.35860927e-02],\n",
      "       [ 2.69475915e-02, -3.35413367e-02,  2.98372842e-02,\n",
      "        -6.31567091e-03, -3.75998244e-02, -5.10033220e-03,\n",
      "         3.37742306e-02,  3.65596302e-02],\n",
      "       [-1.34865656e-01, -8.49383995e-02,  1.16717458e-01,\n",
      "         4.94975820e-02,  1.31829739e-01,  9.97250304e-02,\n",
      "         1.39020771e-01,  1.10900812e-01],\n",
      "       [-1.00089617e-01,  1.08105242e-01,  1.17143705e-01,\n",
      "         1.37649149e-01,  2.65857093e-02,  1.06435105e-01,\n",
      "        -1.16216183e-01,  1.46010309e-01],\n",
      "       [ 1.47693045e-02,  9.71796364e-03,  3.73720787e-02,\n",
      "         2.94974931e-02,  4.20743264e-02, -4.63822149e-02,\n",
      "         1.38141625e-02, -1.42022371e-02],\n",
      "       [-3.56985554e-02,  4.75363843e-02,  1.59475245e-02,\n",
      "        -4.95641120e-02, -2.69631501e-02, -3.15393955e-02,\n",
      "         4.56063412e-02, -1.81605667e-03],\n",
      "       [-2.49994043e-02, -3.22913677e-02,  4.48132791e-02,\n",
      "        -4.74753864e-02,  3.32674496e-02,  1.19062774e-02,\n",
      "        -2.56749634e-02,  4.11393978e-02],\n",
      "       [ 3.75446714e-02,  4.79422696e-02, -3.44443321e-03,\n",
      "        -3.48503515e-03, -2.13321298e-03,  7.73453712e-03,\n",
      "        -3.24519165e-02,  2.45237350e-03],\n",
      "       [-2.17102468e-04,  7.81815127e-03,  4.02732380e-02,\n",
      "         2.47728117e-02,  1.13211758e-02,  1.24622136e-04,\n",
      "        -4.60954905e-02,  1.03591457e-02],\n",
      "       [-4.87691537e-02,  4.00766395e-02, -4.40361984e-02,\n",
      "         5.40912151e-04,  4.96012233e-02, -2.57487223e-03,\n",
      "         6.02466986e-03, -1.40950084e-02],\n",
      "       [ 5.83173558e-02, -1.60921156e-01, -1.40761033e-01,\n",
      "        -7.28653818e-02, -3.03653274e-02, -7.95101151e-02,\n",
      "         6.89261109e-02, -8.13181773e-02],\n",
      "       [ 2.42261551e-02, -2.50483043e-02,  2.12765075e-02,\n",
      "        -2.98235547e-02,  1.96021311e-02, -2.95919664e-02,\n",
      "        -8.28373432e-03,  1.47778727e-02],\n",
      "       [ 3.64503376e-02, -1.58494823e-02, -7.62482733e-03,\n",
      "         1.54306404e-02,  3.86431478e-02,  3.48396339e-02,\n",
      "        -3.42546776e-03, -4.94531170e-02],\n",
      "       [-4.24026512e-02,  4.98627163e-02, -3.32686305e-02,\n",
      "        -8.95969570e-05,  1.44296922e-02, -2.31722947e-02,\n",
      "         2.73532532e-02, -4.37624939e-02],\n",
      "       [-4.21680138e-03,  3.72626521e-02, -4.49270494e-02,\n",
      "        -3.23622376e-02,  2.37049125e-02,  2.11633779e-02,\n",
      "        -3.89229544e-02, -4.98599187e-02]], dtype=float32)]\n"
     ]
    }
   ],
   "source": [
    "print(embedding_layer.get_weights()[0].shape)\n",
    "print(embedding_layer.get_weights())"
   ]
  },
  {
   "cell_type": "code",
   "execution_count": 13,
   "metadata": {},
   "outputs": [
    {
     "name": "stdout",
     "output_type": "stream",
     "text": [
      "Accuracy: 1.0\n"
     ]
    }
   ],
   "source": [
    "loss, accuracy = model.evaluate(padded_reviews, labels, verbose=0)\n",
    "print(f'Accuracy: {accuracy}')"
   ]
  },
  {
   "cell_type": "code",
   "execution_count": null,
   "metadata": {},
   "outputs": [],
   "source": []
  }
 ],
 "metadata": {
  "anaconda-cloud": {},
  "kernelspec": {
   "display_name": "Python 3.6 (tensorflow-2.0)",
   "language": "python",
   "name": "tensorflow-2.0"
  },
  "language_info": {
   "codemirror_mode": {
    "name": "ipython",
    "version": 3
   },
   "file_extension": ".py",
   "mimetype": "text/x-python",
   "name": "python",
   "nbconvert_exporter": "python",
   "pygments_lexer": "ipython3",
   "version": "3.6.8"
  }
 },
 "nbformat": 4,
 "nbformat_minor": 4
}
