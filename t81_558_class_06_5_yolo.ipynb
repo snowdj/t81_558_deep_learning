{
 "cells": [
  {
   "cell_type": "markdown",
   "metadata": {
    "colab_type": "text",
    "id": "YDTXd8-Lmp8Q"
   },
   "source": [
    "# T81-558: Applications of Deep Neural Networks\n",
    "**Module 6: Convolutional Neural Networks (CNN) for Computer Vision**\n",
    "* Instructor: [Jeff Heaton](https://sites.wustl.edu/jeffheaton/), McKelvey School of Engineering, [Washington University in St. Louis](https://engineering.wustl.edu/Programs/Pages/default.aspx)\n",
    "* For more information visit the [class website](https://sites.wustl.edu/jeffheaton/t81-558/)."
   ]
  },
  {
   "cell_type": "markdown",
   "metadata": {
    "colab_type": "text",
    "id": "ncNrAEpzmp8S"
   },
   "source": [
    "# Module 6 Material\n",
    "\n",
    "* Part 6.1: Image Processing in Python [[Video]](https://www.youtube.com/watch?v=4Bh3gqHkIgc&list=PLjy4p-07OYzulelvJ5KVaT2pDlxivl_BN) [[Notebook]](t81_558_class_06_1_python_images.ipynb)\n",
    "* Part 6.2: Keras Neural Networks for Digits and Fashion MNIST [[Video]](https://www.youtube.com/watch?v=-SA8BmGvWYE&list=PLjy4p-07OYzulelvJ5KVaT2pDlxivl_BN) [[Notebook]](t81_558_class_06_2_cnn.ipynb)\n",
    "* Part 6.3: Implementing a ResNet in Keras [[Video]](https://www.youtube.com/watch?v=qMFKsMeE6fM&list=PLjy4p-07OYzulelvJ5KVaT2pDlxivl_BN) [[Notebook]](t81_558_class_06_3_resnet.ipynb)\n",
    "* Part 6.4: Using Your Own Images with Keras [[Video]](https://www.youtube.com/watch?v=VcFja1fUNSk&list=PLjy4p-07OYzulelvJ5KVaT2pDlxivl_BN) [[Notebook]](t81_558_class_06_4_keras_images.ipynb)\n",
    "* **Part 6.5: Recognizing Multiple Images with YOLO Darknet** [[Video]](https://www.youtube.com/watch?v=oQcAKvBFli8&list=PLjy4p-07OYzulelvJ5KVaT2pDlxivl_BN) [[Notebook]](t81_558_class_06_5_yolo.ipynb)"
   ]
  },
  {
   "cell_type": "code",
   "execution_count": null,
   "metadata": {
    "colab": {},
    "colab_type": "code",
    "id": "fU9UhAxTmp8S"
   },
   "outputs": [],
   "source": [
    "# Nicely formatted time string\n",
    "def hms_string(sec_elapsed):\n",
    "    h = int(sec_elapsed / (60 * 60))\n",
    "    m = int((sec_elapsed % (60 * 60)) / 60)\n",
    "    s = sec_elapsed % 60\n",
    "    return f\"{h}:{m:>02}:{s:>05.2f}\""
   ]
  },
  {
   "cell_type": "markdown",
   "metadata": {
    "colab_type": "text",
    "id": "QSKZqD1Mmp-C"
   },
   "source": [
    "# Part 6.5: Recognizing Multiple Images with Darknet\n",
    "\n",
    "Convolutional neural networks are great at recognizing classifying a single item that is centered in an image.  However, as humans we are able to recognize many items in our field of view, in real-time.  It is very useful to be able to recognize multiple items in a single image.  One of the most advanced means of doing this is YOLO DarkNet (not to be confused with the Internet [Darknet](https://en.wikipedia.org/wiki/Darknet).  YOLO is an acronym for You Only Look Once.  This speaks to the efficency of the algorithm.  \n",
    "\n",
    "* Redmon, J., Divvala, S., Girshick, R., & Farhadi, A. (2016). [You only look once: Unified, real-time object detection](https://arxiv.org/abs/1506.02640). In *Proceedings of the IEEE conference on computer vision and pattern recognition* (pp. 779-788).\n",
    "\n",
    "The following image shows YOLO tagging in action.\n",
    "\n",
    "![DarkNet](https://raw.githubusercontent.com/jeffheaton/t81_558_deep_learning/master/images/darknet-predictions.jpg \"DarkNet\")\n",
    "\n",
    "It is also possible to run YOLO on live video streams.  The following frame is from the YouTube Video for this module.\n",
    "\n",
    "![DarkNet Video](https://raw.githubusercontent.com/jeffheaton/t81_558_deep_learning/master/images/yolo_video.png \"DarkNet Video\")\n",
    "\n",
    "As you can see it is classifying many things in this video.  My collection of books behind me is adding considerable \"noise\", as DarkNet tries to classify every book behind me.  If you watch the video you will note that it is less than perfect.  The coffee mug that I pick up gets classified as a cell phone and at times a remote.  The small yellow object behind me on the desk is actually a small toolbox.  However, it gets classified as a book at times and a remote at other times.  Currently this algorithm classifies each frame on its own.  More accuracy could be gained by using multiple images together.  Consider when you see an object coming towards you, if it changes angles, you might form a better opinion of what it was.  If that same object now changes to an unfavorable angle, you still know what it is, based on previous information.\n",
    "\n",
    "### How Does DarkNet/YOLO Work?\n",
    "\n",
    "YOLO begins by resizing the image to an $S \\times S$ grid.  A single convolutional neural network is run against this grid that predicts bounding boxes and what might be contained by those boxes.  Each bounding box also has a confidence in which item it believes the box contains.  This is a regular convolution network, just like we've seen privously.  The only difference is that a YOLO CNN outputs a number of prediction bounding boxes. At a high level this can be seen by the following diagram.\n",
    "\n",
    "![The YOLO Detection System](https://raw.githubusercontent.com/jeffheaton/t81_558_deep_learning/master/images/yolo-1.png \"The YOLO Detection System\")\n",
    "\n",
    "The output of the YOLO convolutional neural networks is essentially a multiple regression.  The following values are generated for each of the bounding records that are generated.\n",
    "\n",
    "* **x** - The x-coordinate of the center of a bounding rectangle.\n",
    "* **y** - The y-coordinate of the center of a bounding rectangle.\n",
    "* **w** - The width of each bounding rectangle.\n",
    "* **h** - The height of each bounding rectangle.\n",
    "* **labels** - The relative probabilities of each of the labels (1 value for each label)\n",
    "* **confidence** - The confidence in this rectangle.\n",
    "\n",
    "The output layer of a Keras neural network is a Tensor.  In the case of YOLO, this output tensor is 3D and is of the following dimensions.\n",
    "\n",
    "$$S \\times S \\times (B \\cdot 5 + C)$$\n",
    "\n",
    "The constants in the above expression are:\n",
    "\n",
    "* *S* - The dimensions of the YOLO grid that is overlaid across the source image.\n",
    "* *B* - The number of potential bounding rectangles generated for each grid cell.\n",
    "* *C* - The number of class labels that here are.\n",
    "\n",
    "The value 5 in the above expression is simply the count of non-label components of each bounding rectangle ($x$, $y$, $h$, $w$, $confidence$.\n",
    "\n",
    "Because there are $S^2 \\cdot B$ total potential bounding rectangles, the image will get very full.  Because of this it is important to drop all rectangles below some threshold of confidence.  This is demonstrated by the image below.\n",
    "\n",
    "![The YOLO Detection System](https://raw.githubusercontent.com/jeffheaton/t81_558_deep_learning/master/images/yolo-2.png \"The YOLO Detection System\")\n",
    "\n",
    "The actual structure of the convolutional neural network behind YOLO is relatively simple and is shown in the following image.  Because there is only one convolutional neural network, and it \"only looks once,\" the performance is not impacted by how many objects are detected. \n",
    "\n",
    "![The YOLO Detection System](https://raw.githubusercontent.com/jeffheaton/t81_558_deep_learning/master/images/yolo-3.png \"The YOLO Detection System\")\n",
    "\n",
    "The following image shows some additional recognitions being performed by a YOLO.\n",
    "\n",
    "![The YOLO Detection System](https://raw.githubusercontent.com/jeffheaton/t81_558_deep_learning/master/images/yolo-4.png \"The YOLO Detection System\")\n",
    "\n",
    "\n",
    "\n",
    "### Using DarkFlow in Python\n",
    "\n",
    "To make use of DarkFlow you have several options:\n",
    "\n",
    "* **[DarkNet](https://pjreddie.com/darknet/yolo/)** - The original implementation of YOLO, written in C.\n",
    "* **[DarkFlow](https://github.com/thtrieu/darkflow)** - Python package that implements YOLO in Python, using TensorFlow.\n",
    "\n",
    "DarkFlow can be used from the command line.  This allows videos to be produced from existing videos.  This is how the YOLO videos used in the class module video were created.\n",
    "\n",
    "It is also possible call DarkFlow directly from Python.  The following code performs a classification of the image of my dog and I in the kitchen from above."
   ]
  },
  {
   "cell_type": "markdown",
   "metadata": {
    "colab_type": "text",
    "id": "2vJqUpvNrEXo"
   },
   "source": [
    "### Running DarkFlow (YOLO) from Google CoLab\n",
    "\n",
    "Make sure you create the following folders on your Google drive and download yolo.weights, coco.names, and yolo.cfg into the correct locations.  See the helper script below to set this up.\n",
    "\n",
    "'/content/drive/My Drive/projects/yolo':\n",
    "bin  cfg\n",
    "\n",
    "'/content/drive/My Drive/projects/yolo/bin':\n",
    "yolo.weights\n",
    "\n",
    "'/content/drive/My Drive/projects/yolo/cfg':\n",
    "coco.names  yolo.cfg"
   ]
  },
  {
   "cell_type": "code",
   "execution_count": 39,
   "metadata": {
    "colab": {
     "base_uri": "https://localhost:8080/",
     "height": 102
    },
    "colab_type": "code",
    "executionInfo": {
     "elapsed": 74,
     "status": "ok",
     "timestamp": 1558743283915,
     "user": {
      "displayName": "",
      "photoUrl": "",
      "userId": ""
     },
     "user_tz": 300
    },
    "id": "mzrhtSdnmp-N",
    "outputId": "1bb5f8a2-236d-40c0-df85-fdeceda2fcc7"
   },
   "outputs": [
    {
     "name": "stdout",
     "output_type": "stream",
     "text": [
      "Cloning into 'darkflow'...\n",
      "remote: Enumerating objects: 2706, done.\u001b[K\n",
      "remote: Total 2706 (delta 0), reused 0 (delta 0), pack-reused 2706\n",
      "Receiving objects: 100% (2706/2706), 32.98 MiB | 8.45 MiB/s, done.\n",
      "Resolving deltas: 100% (1760/1760), done.\n"
     ]
    }
   ],
   "source": [
    "!git clone https://github.com/thtrieu/darkflow.git"
   ]
  },
  {
   "cell_type": "code",
   "execution_count": 40,
   "metadata": {
    "colab": {
     "base_uri": "https://localhost:8080/",
     "height": 136
    },
    "colab_type": "code",
    "executionInfo": {
     "elapsed": 67,
     "status": "ok",
     "timestamp": 1558743283918,
     "user": {
      "displayName": "",
      "photoUrl": "",
      "userId": ""
     },
     "user_tz": 300
    },
    "id": "uqifB-iUnbLP",
    "outputId": "6da4687c-ca4a-4f49-cb33-fe24fbc42ed9"
   },
   "outputs": [
    {
     "name": "stdout",
     "output_type": "stream",
     "text": [
      "Processing ./darkflow\n",
      "Building wheels for collected packages: darkflow\n",
      "  Building wheel for darkflow (setup.py) ... \u001b[?25l\u001b[?25hdone\n",
      "  Stored in directory: /tmp/pip-ephem-wheel-cache-kwf9q725/wheels/2f/3a/c5/e84e79d73d5a73aa1b5129a66a40947d9d77a32ebed501e431\n",
      "Successfully built darkflow\n",
      "Installing collected packages: darkflow\n",
      "Successfully installed darkflow-1.0.0\n"
     ]
    }
   ],
   "source": [
    "!pip install ./darkflow/"
   ]
  },
  {
   "cell_type": "code",
   "execution_count": 41,
   "metadata": {
    "colab": {
     "base_uri": "https://localhost:8080/",
     "height": 34
    },
    "colab_type": "code",
    "executionInfo": {
     "elapsed": 59,
     "status": "ok",
     "timestamp": 1558743283920,
     "user": {
      "displayName": "",
      "photoUrl": "",
      "userId": ""
     },
     "user_tz": 300
    },
    "id": "5Q13cQ3hmp-D",
    "outputId": "2b4e386b-14bc-4e26-aca9-0e56d78bb7dd"
   },
   "outputs": [
    {
     "name": "stdout",
     "output_type": "stream",
     "text": [
      "Drive already mounted at /content/drive; to attempt to forcibly remount, call drive.mount(\"/content/drive\", force_remount=True).\n"
     ]
    }
   ],
   "source": [
    "# Note, if you are using Google CoLab, this can be used to mount your drive to load YOLO config and weights.\n",
    "from google.colab import drive\n",
    "drive.mount('/content/drive')"
   ]
  },
  {
   "cell_type": "code",
   "execution_count": 42,
   "metadata": {
    "colab": {
     "base_uri": "https://localhost:8080/",
     "height": 578
    },
    "colab_type": "code",
    "executionInfo": {
     "elapsed": 61393,
     "status": "ok",
     "timestamp": 1558743345265,
     "user": {
      "displayName": "",
      "photoUrl": "",
      "userId": ""
     },
     "user_tz": 300
    },
    "id": "IffPhFlstITr",
    "outputId": "323ab508-775c-4593-a9d5-e95793274b26"
   },
   "outputs": [
    {
     "name": "stdout",
     "output_type": "stream",
     "text": [
      "--2019-05-25 00:14:05--  https://raw.githubusercontent.com/thtrieu/darkflow/master/cfg/coco.names\n",
      "Resolving raw.githubusercontent.com (raw.githubusercontent.com)... 151.101.0.133, 151.101.64.133, 151.101.128.133, ...\n",
      "Connecting to raw.githubusercontent.com (raw.githubusercontent.com)|151.101.0.133|:443... connected.\n",
      "HTTP request sent, awaiting response... 200 OK\n",
      "Length: 625 [text/plain]\n",
      "Saving to: ‘/content/drive/My Drive/projects/yolo/cfg/coco.names’\n",
      "\n",
      "/content/drive/My D 100%[===================>]     625  --.-KB/s    in 0s      \n",
      "\n",
      "2019-05-25 00:14:06 (27.3 MB/s) - ‘/content/drive/My Drive/projects/yolo/cfg/coco.names’ saved [625/625]\n",
      "\n",
      "--2019-05-25 00:14:20--  https://raw.githubusercontent.com/thtrieu/darkflow/master/cfg/yolo.cfg\n",
      "Resolving raw.githubusercontent.com (raw.githubusercontent.com)... 151.101.0.133, 151.101.64.133, 151.101.128.133, ...\n",
      "Connecting to raw.githubusercontent.com (raw.githubusercontent.com)|151.101.0.133|:443... connected.\n",
      "HTTP request sent, awaiting response... 200 OK\n",
      "Length: 2726 (2.7K) [text/plain]\n",
      "Saving to: ‘/content/drive/My Drive/projects/yolo/cfg/yolo.cfg’\n",
      "\n",
      "/content/drive/My D 100%[===================>]   2.66K  --.-KB/s    in 0s      \n",
      "\n",
      "2019-05-25 00:14:21 (15.9 MB/s) - ‘/content/drive/My Drive/projects/yolo/cfg/yolo.cfg’ saved [2726/2726]\n",
      "\n",
      "--2019-05-25 00:14:43--  https://pjreddie.com/media/files/yolov2.weights\n",
      "Resolving pjreddie.com (pjreddie.com)... 128.208.4.108\n",
      "Connecting to pjreddie.com (pjreddie.com)|128.208.4.108|:443... connected.\n",
      "HTTP request sent, awaiting response... 200 OK\n",
      "Length: 203934260 (194M) [application/octet-stream]\n",
      "Saving to: ‘/content/drive/My Drive/projects/yolo/bin/yolo.weights’\n",
      "\n",
      "/content/drive/My D 100%[===================>] 194.49M  8.15MB/s    in 55s     \n",
      "\n",
      "2019-05-25 00:15:39 (3.53 MB/s) - ‘/content/drive/My Drive/projects/yolo/bin/yolo.weights’ saved [203934260/203934260]\n",
      "\n"
     ]
    }
   ],
   "source": [
    "# The following helper script will create a projects/yolo folder for you \n",
    "# and download the needed files.  \n",
    "\n",
    "!mkdir -p /content/drive/My\\ Drive/projects\n",
    "!mkdir -p /content/drive/My\\ Drive/projects/yolo\n",
    "!mkdir -p /content/drive/My\\ Drive/projects/yolo/bin\n",
    "!mkdir -p /content/drive/My\\ Drive/projects/yolo/cfg\n",
    "!wget https://raw.githubusercontent.com/thtrieu/darkflow/master/cfg/coco.names -O /content/drive/My\\ Drive/projects/yolo/cfg/coco.names\n",
    "!wget https://raw.githubusercontent.com/thtrieu/darkflow/master/cfg/yolo.cfg -O /content/drive/My\\ Drive/projects/yolo/cfg/yolo.cfg\n",
    "!wget https://pjreddie.com/media/files/yolov2.weights -O /content/drive/My\\ Drive/projects/yolo/bin/yolo.weights"
   ]
  },
  {
   "cell_type": "markdown",
   "metadata": {
    "colab_type": "text",
    "id": "Ym5_juokofQl"
   },
   "source": [
    "### Running DarkFlow (YOLO) Locally\n",
    "\n",
    "If you wish to run YOLO from your own computer you will need to pip install cython and then follow the instructions [here](https://github.com/thtrieu/darkflow)."
   ]
  },
  {
   "cell_type": "markdown",
   "metadata": {
    "colab_type": "text",
    "id": "qYOvD3M7ofQl"
   },
   "source": [
    "### Running DarkFlow (YOLO)\n",
    "\n",
    "Regardless of which path you take above (Google CoLab or Local) you will run this code to continue.  Make sure to uncomment the correct **os.chdir** command below."
   ]
  },
  {
   "cell_type": "code",
   "execution_count": 43,
   "metadata": {
    "colab": {
     "base_uri": "https://localhost:8080/",
     "height": 782
    },
    "colab_type": "code",
    "executionInfo": {
     "elapsed": 10818,
     "status": "ok",
     "timestamp": 1558743356081,
     "user": {
      "displayName": "",
      "photoUrl": "",
      "userId": ""
     },
     "user_tz": 300
    },
    "id": "i_y-EqBRmp-H",
    "outputId": "3cf03ce7-4246-4718-827d-db43b1c3acac"
   },
   "outputs": [
    {
     "name": "stdout",
     "output_type": "stream",
     "text": [
      "Parsing ./cfg/yolo.cfg\n",
      "Loading ./bin/yolo.weights ...\n",
      "Successfully identified 203934260 bytes\n",
      "Finished in 0.0576629638671875s\n",
      "Model has a coco model name, loading coco labels.\n",
      "\n",
      "Building net ...\n",
      "Source | Train? | Layer description                | Output size\n",
      "-------+--------+----------------------------------+---------------\n",
      "       |        | input                            | (?, 608, 608, 3)\n",
      " Load  |  Yep!  | conv 3x3p1_1  +bnorm  leaky      | (?, 608, 608, 32)\n",
      " Load  |  Yep!  | maxp 2x2p0_2                     | (?, 304, 304, 32)\n",
      " Load  |  Yep!  | conv 3x3p1_1  +bnorm  leaky      | (?, 304, 304, 64)\n",
      " Load  |  Yep!  | maxp 2x2p0_2                     | (?, 152, 152, 64)\n",
      " Load  |  Yep!  | conv 3x3p1_1  +bnorm  leaky      | (?, 152, 152, 128)\n",
      " Load  |  Yep!  | conv 1x1p0_1  +bnorm  leaky      | (?, 152, 152, 64)\n",
      " Load  |  Yep!  | conv 3x3p1_1  +bnorm  leaky      | (?, 152, 152, 128)\n",
      " Load  |  Yep!  | maxp 2x2p0_2                     | (?, 76, 76, 128)\n",
      " Load  |  Yep!  | conv 3x3p1_1  +bnorm  leaky      | (?, 76, 76, 256)\n",
      " Load  |  Yep!  | conv 1x1p0_1  +bnorm  leaky      | (?, 76, 76, 128)\n",
      " Load  |  Yep!  | conv 3x3p1_1  +bnorm  leaky      | (?, 76, 76, 256)\n",
      " Load  |  Yep!  | maxp 2x2p0_2                     | (?, 38, 38, 256)\n",
      " Load  |  Yep!  | conv 3x3p1_1  +bnorm  leaky      | (?, 38, 38, 512)\n",
      " Load  |  Yep!  | conv 1x1p0_1  +bnorm  leaky      | (?, 38, 38, 256)\n",
      " Load  |  Yep!  | conv 3x3p1_1  +bnorm  leaky      | (?, 38, 38, 512)\n",
      " Load  |  Yep!  | conv 1x1p0_1  +bnorm  leaky      | (?, 38, 38, 256)\n",
      " Load  |  Yep!  | conv 3x3p1_1  +bnorm  leaky      | (?, 38, 38, 512)\n",
      " Load  |  Yep!  | maxp 2x2p0_2                     | (?, 19, 19, 512)\n",
      " Load  |  Yep!  | conv 3x3p1_1  +bnorm  leaky      | (?, 19, 19, 1024)\n",
      " Load  |  Yep!  | conv 1x1p0_1  +bnorm  leaky      | (?, 19, 19, 512)\n",
      " Load  |  Yep!  | conv 3x3p1_1  +bnorm  leaky      | (?, 19, 19, 1024)\n",
      " Load  |  Yep!  | conv 1x1p0_1  +bnorm  leaky      | (?, 19, 19, 512)\n",
      " Load  |  Yep!  | conv 3x3p1_1  +bnorm  leaky      | (?, 19, 19, 1024)\n",
      " Load  |  Yep!  | conv 3x3p1_1  +bnorm  leaky      | (?, 19, 19, 1024)\n",
      " Load  |  Yep!  | conv 3x3p1_1  +bnorm  leaky      | (?, 19, 19, 1024)\n",
      " Load  |  Yep!  | concat [16]                      | (?, 38, 38, 512)\n",
      " Load  |  Yep!  | conv 1x1p0_1  +bnorm  leaky      | (?, 38, 38, 64)\n",
      " Load  |  Yep!  | local flatten 2x2                | (?, 19, 19, 256)\n",
      " Load  |  Yep!  | concat [27, 24]                  | (?, 19, 19, 1280)\n",
      " Load  |  Yep!  | conv 3x3p1_1  +bnorm  leaky      | (?, 19, 19, 1024)\n",
      " Load  |  Yep!  | conv 1x1p0_1    linear           | (?, 19, 19, 425)\n",
      "-------+--------+----------------------------------+---------------\n",
      "GPU mode with 1.0 usage\n",
      "Finished in 5.562221050262451s\n",
      "\n"
     ]
    }
   ],
   "source": [
    "from darkflow.net.build import TFNet\n",
    "import cv2\n",
    "import numpy as np\n",
    "import requests\n",
    "import os\n",
    "from scipy import misc\n",
    "from io import BytesIO\n",
    "from urllib.request import urlopen\n",
    "\n",
    "os.chdir('/content/drive/My Drive/projects/yolo') # Google CoLab\n",
    "#os.chdir('/Users/jheaton/projects/darkflow') # Local\n",
    "\n",
    "# For GPU (Google CoLab)\n",
    "options = {\"model\": \"./cfg/yolo.cfg\", \"load\": \"./bin/yolo.weights\", \"threshold\": 0.1, \"gpu\": 1.0}\n",
    "\n",
    "# For CPU \n",
    "#options = {\"model\": \"./cfg/yolo.cfg\", \"load\": \"./bin/yolo.weights\", \"threshold\": 0.1}\n",
    "\n",
    "tfnet = TFNet(options)\n",
    "\n",
    "\n",
    "# Read image to classify\n",
    "url = \"https://raw.githubusercontent.com/jeffheaton/t81_558_deep_learning/master/images/cook.jpg\"\n",
    "resp = urlopen(url)\n",
    "img = np.asarray(bytearray(resp.read()), dtype=\"uint8\")\n",
    "img = cv2.imdecode(img, cv2.IMREAD_COLOR)\n",
    "\n",
    "result = tfnet.return_predict(img)"
   ]
  },
  {
   "cell_type": "code",
   "execution_count": 44,
   "metadata": {
    "colab": {
     "base_uri": "https://localhost:8080/",
     "height": 221
    },
    "colab_type": "code",
    "executionInfo": {
     "elapsed": 39,
     "status": "ok",
     "timestamp": 1558743356083,
     "user": {
      "displayName": "",
      "photoUrl": "",
      "userId": ""
     },
     "user_tz": 300
    },
    "id": "MY3gVyidmp-K",
    "outputId": "e43ced65-50f9-4aa7-c396-b20fdc68864e"
   },
   "outputs": [
    {
     "name": "stdout",
     "output_type": "stream",
     "text": [
      "{'label': 'person', 'confidence': 0.86566865, 'topleft': {'x': 80, 'y': 29}, 'bottomright': {'x': 163, 'y': 230}}\n",
      "{'label': 'dog', 'confidence': 0.5418274, 'topleft': {'x': 124, 'y': 175}, 'bottomright': {'x': 223, 'y': 264}}\n",
      "{'label': 'cat', 'confidence': 0.31329468, 'topleft': {'x': 127, 'y': 178}, 'bottomright': {'x': 229, 'y': 264}}\n",
      "{'label': 'bottle', 'confidence': 0.6694726, 'topleft': {'x': 174, 'y': 74}, 'bottomright': {'x': 183, 'y': 108}}\n",
      "{'label': 'bottle', 'confidence': 0.4727984, 'topleft': {'x': 188, 'y': 84}, 'bottomright': {'x': 197, 'y': 104}}\n",
      "{'label': 'bowl', 'confidence': 0.10527723, 'topleft': {'x': 39, 'y': 112}, 'bottomright': {'x': 58, 'y': 131}}\n",
      "{'label': 'bowl', 'confidence': 0.27615076, 'topleft': {'x': 48, 'y': 122}, 'bottomright': {'x': 80, 'y': 134}}\n",
      "{'label': 'microwave', 'confidence': 0.7915927, 'topleft': {'x': 1, 'y': 29}, 'bottomright': {'x': 68, 'y': 85}}\n",
      "{'label': 'oven', 'confidence': 0.6036119, 'topleft': {'x': 0, 'y': 96}, 'bottomright': {'x': 110, 'y': 265}}\n",
      "{'label': 'oven', 'confidence': 0.48351166, 'topleft': {'x': 217, 'y': 121}, 'bottomright': {'x': 239, 'y': 236}}\n",
      "{'label': 'sink', 'confidence': 0.15929697, 'topleft': {'x': 187, 'y': 118}, 'bottomright': {'x': 206, 'y': 126}}\n",
      "{'label': 'sink', 'confidence': 0.45576373, 'topleft': {'x': 177, 'y': 116}, 'bottomright': {'x': 233, 'y': 130}}\n"
     ]
    }
   ],
   "source": [
    "for row in result:\n",
    "    print(row)"
   ]
  },
  {
   "cell_type": "markdown",
   "metadata": {
    "colab_type": "text",
    "id": "0eBtaFbimp-M"
   },
   "source": [
    "# Module 6 Assignment\n",
    "\n",
    "You can find the first assignment here: [assignment 6](https://github.com/jeffheaton/t81_558_deep_learning/blob/master/assignments/assignment_yourname_class1.ipynb)"
   ]
  }
 ],
 "metadata": {
  "accelerator": "GPU",
  "colab": {
   "collapsed_sections": [
    "4aQApI1jmp8o",
    "pAf59S0Wmp82",
    "6JN_aTuvmp86",
    "BqWngCONmp8-",
    "TRXv8k0Ymp9B",
    "ptDi0ZiQmp9J",
    "FDk1ekrxmp9X",
    "SzNJPXncmp9a"
   ],
   "name": "Copy of Copy of t81_558_class06_backpropagation.ipynb",
   "provenance": [
    {
     "file_id": "https://github.com/jeffheaton/t81_558_deep_learning/blob/master/t81_558_class06_cnn.ipynb",
     "timestamp": 1558743458994
    },
    {
     "file_id": "https://github.com/jeffheaton/t81_558_deep_learning/blob/master/t81_558_class06_backpropagation.ipynb",
     "timestamp": 1558698961697
    }
   ],
   "version": "0.3.2"
  },
  "kernelspec": {
   "display_name": "Python 3.6 (yolo)",
   "language": "python",
   "name": "yolo"
  },
  "language_info": {
   "codemirror_mode": {
    "name": "ipython",
    "version": 3
   },
   "file_extension": ".py",
   "mimetype": "text/x-python",
   "name": "python",
   "nbconvert_exporter": "python",
   "pygments_lexer": "ipython3",
   "version": "3.6.8"
  }
 },
 "nbformat": 4,
 "nbformat_minor": 4
}
