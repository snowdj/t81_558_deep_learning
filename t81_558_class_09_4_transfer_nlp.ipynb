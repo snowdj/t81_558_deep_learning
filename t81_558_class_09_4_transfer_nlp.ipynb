{
 "cells": [
  {
   "cell_type": "markdown",
   "metadata": {},
   "source": [
    "# T81-558: Applications of Deep Neural Networks\n",
    "**Module 9: Regularization: L1, L2 and Dropout**\n",
    "* Instructor: [Jeff Heaton](https://sites.wustl.edu/jeffheaton/), McKelvey School of Engineering, [Washington University in St. Louis](https://engineering.wustl.edu/Programs/Pages/default.aspx)\n",
    "* For more information visit the [class website](https://sites.wustl.edu/jeffheaton/t81-558/)."
   ]
  },
  {
   "cell_type": "markdown",
   "metadata": {},
   "source": [
    "# Module 9 Material\n",
    "\n",
    "* Part 9.1: Introduction to Keras Transfer Learning [[Video]](https://www.youtube.com/watch?v=xyymDGReKdY&list=PLjy4p-07OYzulelvJ5KVaT2pDlxivl_BN&index=26) [[Notebook]](t81_558_class_09_1_keras_transfer.ipynb)\n",
    "* Part 9.2: Popular Pretrained Neural Networks for Keras [[Video]](https://www.youtube.com/watch?v=CEFcwpBneFo&list=PLjy4p-07OYzulelvJ5KVaT2pDlxivl_BN&index=27) [[Notebook]](t81_558_class_09_2_popular_transfer.ipynb)\n",
    "* Part 9.3: Transfer Learning for Computer Vision and Keras [[Video]](https://www.youtube.com/watch?v=JPqwyuK7bPg&list=PLjy4p-07OYzulelvJ5KVaT2pDlxivl_BN&index=28) [[Notebook]](t81_558_class_09_3_transfer_cv.ipynb)\n",
    "* **Part 9.4: Transfer Learning for Languages and Keras** [[Video]](https://www.youtube.com/watch?v=JPqwyuK7bPg&list=PLjy4p-07OYzulelvJ5KVaT2pDlxivl_BN&index=28) [[Notebook]](t81_558_class_09_4_transfer_nlp.ipynb)\n",
    "* Part 9.5: Transfer Learning for Keras Feature Engineering [[Video]](https://www.youtube.com/watch?v=JPqwyuK7bPg&list=PLjy4p-07OYzulelvJ5KVaT2pDlxivl_BN&index=28) [[Notebook]](t81_558_class_09_5_transfer_feature_eng.ipynb)"
   ]
  },
  {
   "cell_type": "markdown",
   "metadata": {},
   "source": [
    "# Part 9.4: Transfer Learning for Languages and Keras\n",
    "\n",
    "Transfer learning is commonly used with Natural Language Processing (NLP).  This course has an entire module that covers NLP.  However, for now we will look how a NLP network can be loaded into Keras for transfer learning.  The following three sources were helpful for the creation of this section.\n",
    "\n",
    "* Cer, D., Yang, Y., Kong, S. Y., Hua, N., Limtiaco, N., John, R. S., ... & Sung, Y. H. (2018). [Universal sentence encoder](https://arxiv.org/abs/1803.11175). arXiv preprint arXiv:1803.11175.\n",
    "* [Deep Transfer Learning for Natural Language Processing — Text Classification with Universal Embeddings](https://towardsdatascience.com/deep-transfer-learning-for-natural-language-processing-text-classification-with-universal-1a2c69e5baa9)\n",
    "* [Keras Tutorial - How to Use Google's Universal Sentence Encoder for Spam Classification](http://hunterheidenreich.com/blog/google-universal-sentence-encoder-in-keras/)\n",
    "\n",
    "These examples make use of TensorFlow Hub, which allows pretrained models to easily be loaded into TensorFlow.  To install TensorHub use the following command."
   ]
  },
  {
   "cell_type": "code",
   "execution_count": null,
   "metadata": {},
   "outputs": [],
   "source": [
    "!pip install tensorflow_hub"
   ]
  },
  {
   "cell_type": "markdown",
   "metadata": {},
   "source": [
    "It is also necessary to install TensorFlow Datasets.  This can be done with the following command."
   ]
  },
  {
   "cell_type": "code",
   "execution_count": null,
   "metadata": {},
   "outputs": [],
   "source": [
    "!pip install tensorflow_datasets"
   ]
  },
  {
   "cell_type": "markdown",
   "metadata": {},
   "source": [
    "https://colab.research.google.com/github/tensorflow/hub/blob/master/examples/colab/tf2_text_classification.ipynb#scrollTo=2ew7HTbPpCJH"
   ]
  },
  {
   "cell_type": "markdown",
   "metadata": {},
   "source": [
    "Load the Internet Movie DataBase (IMDB) reviews data set."
   ]
  },
  {
   "cell_type": "code",
   "execution_count": 1,
   "metadata": {},
   "outputs": [],
   "source": [
    "import tensorflow as tf\n",
    "import tensorflow_hub as hub\n",
    "import tensorflow_datasets as tfds\n",
    "\n",
    "train_data, test_data = tfds.load(name=\"imdb_reviews\", split=[\"train\", \"test\"], \n",
    "                                  batch_size=-1, as_supervised=True)\n",
    "\n",
    "train_examples, train_labels = tfds.as_numpy(train_data)\n",
    "test_examples, test_labels = tfds.as_numpy(test_data)\n",
    "\n",
    "# /Users/jheaton/tensorflow_datasets/imdb_reviews/plain_text/0.1.0"
   ]
  },
  {
   "cell_type": "markdown",
   "metadata": {},
   "source": [
    "Load a pretrained embedding model called [gnews-swivel-20dim](https://tfhub.dev/google/tf2-preview/gnews-swivel-20dim/1).  This was trained by Google on gnews data and can convert RAW text into vectors.  "
   ]
  },
  {
   "cell_type": "code",
   "execution_count": 2,
   "metadata": {},
   "outputs": [],
   "source": [
    "model = \"https://tfhub.dev/google/tf2-preview/gnews-swivel-20dim/1\"\n",
    "hub_layer = hub.KerasLayer(model, output_shape=[20], input_shape=[], \n",
    "                           dtype=tf.string, trainable=True)"
   ]
  },
  {
   "cell_type": "markdown",
   "metadata": {},
   "source": [
    "Consider the following 3 movie reviews."
   ]
  },
  {
   "cell_type": "code",
   "execution_count": 3,
   "metadata": {},
   "outputs": [
    {
     "data": {
      "text/plain": [
       "array([b\"I absolutely LOVED this movie when I was a kid. I cried every time I watched it. It wasn't weird to me. I totally identified with the characters. I would love to see it again (and hope I wont be disappointed!). Pufnstuf rocks!!!! I was really drawn in to the fantasy world. And to me the movie was loooong. I wonder if I ever saw the series and have confused them? The acting I thought was strong. I loved Jack Wilde. He was so dreamy to an 10 year old (when I first saw the movie, not in 1970. I can still remember the characters vividly. The flute was totally believable and I can still 'feel' the evil woods. Witchy poo was scary - I wouldn't want to cross her path.\",\n",
       "       b'A very close and sharp discription of the bubbling and dynamic emotional world of specialy one 18year old guy, that makes his first experiences in his gay love to an other boy, during an vacation with a part of his family.<br /><br />I liked this film because of his extremly clear and surrogated storytelling , with all this \"Sound-close-ups\" and quiet moments wich had been full of intensive moods.<br /><br />',\n",
       "       b\"As a lifelong fan of Dickens, I have invariably been disappointed by adaptations of his novels.<br /><br />Although his works presented an extremely accurate re-telling of human life at every level in Victorian Britain, throughout them all was a pervasive thread of humour that could be both playful or sarcastic as the narrative dictated. In a way, he was a literary caricaturist and cartoonist. He could be serious and hilarious in the same sentence. He pricked pride, lampooned arrogance, celebrated modesty, and empathised with loneliness and poverty. It may be a clich\\xc3\\xa9, but he was a people's writer.<br /><br />And it is the comedy that is so often missing from his interpretations. At the time of writing, Oliver Twist is being dramatised in serial form on BBC television. All of the misery and cruelty is their, but non of the humour, irony, and savage lampoonery. The result is just a dark, dismal experience: the story penned by a journalist rather than a novelist. It's not really Dickens at all.<br /><br />'Oliver!', on the other hand, is much closer to the mark. The mockery of officialdom is perfectly interpreted, from the blustering beadle to the drunken magistrate. The classic stand-off between the beadle and Mr Brownlow, in which the law is described as 'a ass, a idiot' couldn't have been better done. Harry Secombe is an ideal choice.<br /><br />But the blinding cruelty is also there, the callous indifference of the state, the cold, hunger, poverty and loneliness are all presented just as surely as The Master would have wished.<br /><br />And then there is crime. Ron Moody is a treasure as the sleazy Jewish fence, whilst Oliver Reid has Bill Sykes to perfection.<br /><br />Perhaps not surprisingly, Lionel Bart - himself a Jew from London's east-end - takes a liberty with Fagin by re-interpreting him as a much more benign fellow than was Dicken's original. In the novel, he was utterly ruthless, sending some of his own boys to the gallows in order to protect himself (though he was also caught and hanged). Whereas in the movie, he is presented as something of a wayward father-figure, a sort of charitable thief rather than a corrupter of children, the latter being a long-standing anti-semitic sentiment. Otherwise, very few liberties are taken with Dickens's original. All of the most memorable elements are included. Just enough menace and violence is retained to ensure narrative fidelity whilst at the same time allowing for children' sensibilities. Nancy is still beaten to death, Bullseye narrowly escapes drowning, and Bill Sykes gets a faithfully graphic come-uppance.<br /><br />Every song is excellent, though they do incline towards schmaltz. Mark Lester mimes his wonderfully. Both his and my favourite scene is the one in which the world comes alive to 'who will buy'. It's schmaltzy, but it's Dickens through and through.<br /><br />I could go on. I could commend the wonderful set-pieces, the contrast of the rich and poor. There is top-quality acting from more British regulars than you could shake a stick at.<br /><br />I ought to give it 10 points, but I'm feeling more like Scrooge today. Soak it up with your Christmas dinner. No original has been better realised.\"],\n",
       "      dtype=object)"
      ]
     },
     "execution_count": 3,
     "metadata": {},
     "output_type": "execute_result"
    }
   ],
   "source": [
    "train_examples[:3]"
   ]
  },
  {
   "cell_type": "markdown",
   "metadata": {},
   "source": [
    "The embedding layer can convert each to 20-number vectors."
   ]
  },
  {
   "cell_type": "code",
   "execution_count": 4,
   "metadata": {},
   "outputs": [
    {
     "data": {
      "text/plain": [
       "<tf.Tensor: id=309, shape=(3, 20), dtype=float32, numpy=\n",
       "array([[ 2.0660517 , -4.491833  ,  3.6127415 , -0.6699504 , -7.310619  ,\n",
       "        -4.402696  , -4.3286967 ,  2.5536625 ,  5.506356  ,  1.5327201 ,\n",
       "        -4.539875  ,  0.2960692 ,  1.5209124 ,  1.1145658 , -6.6717415 ,\n",
       "         3.1345682 ,  5.0351944 , -2.2035742 , -3.4724264 , -0.7029331 ],\n",
       "       [ 2.2850306 , -1.3994653 ,  1.9646566 , -1.8079202 , -0.3574569 ,\n",
       "        -0.12123204, -0.82485604,  0.20197354,  2.4308808 , -1.8707466 ,\n",
       "        -1.8008713 ,  0.9650812 , -1.3530476 , -0.10591842, -2.7889197 ,\n",
       "         0.69957316,  2.0551753 , -1.6120912 , -2.8612442 , -0.7083347 ],\n",
       "       [ 3.9819887 , -4.4838037 ,  5.177359  , -2.3643482 , -3.2938678 ,\n",
       "        -3.5364532 , -2.4786978 ,  2.5525482 ,  6.688532  , -2.3076782 ,\n",
       "        -1.9807833 ,  1.1315885 , -3.0339816 , -0.7604128 , -5.743445  ,\n",
       "         3.4242578 ,  4.790099  , -4.03061   , -5.992149  , -1.7297493 ]],\n",
       "      dtype=float32)>"
      ]
     },
     "execution_count": 4,
     "metadata": {},
     "output_type": "execute_result"
    }
   ],
   "source": [
    "hub_layer(train_examples[:3])"
   ]
  },
  {
   "cell_type": "markdown",
   "metadata": {},
   "source": [
    "We add addition layers to attempt to classify the movie reviews as either positive or negative."
   ]
  },
  {
   "cell_type": "code",
   "execution_count": 5,
   "metadata": {},
   "outputs": [
    {
     "name": "stdout",
     "output_type": "stream",
     "text": [
      "Model: \"sequential\"\n",
      "_________________________________________________________________\n",
      "Layer (type)                 Output Shape              Param #   \n",
      "=================================================================\n",
      "keras_layer (KerasLayer)     (None, 20)                400020    \n",
      "_________________________________________________________________\n",
      "dense (Dense)                (None, 16)                336       \n",
      "_________________________________________________________________\n",
      "dense_1 (Dense)              (None, 1)                 17        \n",
      "=================================================================\n",
      "Total params: 400,373\n",
      "Trainable params: 400,373\n",
      "Non-trainable params: 0\n",
      "_________________________________________________________________\n"
     ]
    }
   ],
   "source": [
    "model = tf.keras.Sequential()\n",
    "model.add(hub_layer)\n",
    "model.add(tf.keras.layers.Dense(16, activation='relu'))\n",
    "model.add(tf.keras.layers.Dense(1, activation='sigmoid'))\n",
    "\n",
    "model.summary()"
   ]
  },
  {
   "cell_type": "code",
   "execution_count": null,
   "metadata": {},
   "outputs": [],
   "source": [
    "Compile the neural network."
   ]
  },
  {
   "cell_type": "code",
   "execution_count": 6,
   "metadata": {},
   "outputs": [],
   "source": [
    "model.compile(optimizer='adam',\n",
    "              loss='binary_crossentropy',\n",
    "              metrics=['accuracy'])"
   ]
  },
  {
   "cell_type": "markdown",
   "metadata": {},
   "source": [
    "Split and train the neural network."
   ]
  },
  {
   "cell_type": "code",
   "execution_count": 7,
   "metadata": {},
   "outputs": [],
   "source": [
    "x_val = train_examples[:10000]\n",
    "partial_x_train = train_examples[10000:]\n",
    "\n",
    "y_val = train_labels[:10000]\n",
    "partial_y_train = train_labels[10000:]"
   ]
  },
  {
   "cell_type": "code",
   "execution_count": 8,
   "metadata": {},
   "outputs": [
    {
     "name": "stdout",
     "output_type": "stream",
     "text": [
      "Train on 15000 samples, validate on 10000 samples\n",
      "Epoch 1/40\n",
      "15000/15000 [==============================] - 2s 147us/sample - loss: 0.8996 - accuracy: 0.5348 - val_loss: 0.7075 - val_accuracy: 0.5826\n",
      "Epoch 2/40\n",
      "15000/15000 [==============================] - 2s 119us/sample - loss: 0.6725 - accuracy: 0.5999 - val_loss: 0.6488 - val_accuracy: 0.6217\n",
      "Epoch 3/40\n",
      "15000/15000 [==============================] - 2s 115us/sample - loss: 0.6324 - accuracy: 0.6427 - val_loss: 0.6163 - val_accuracy: 0.6603\n",
      "Epoch 4/40\n",
      "15000/15000 [==============================] - 2s 114us/sample - loss: 0.5967 - accuracy: 0.6821 - val_loss: 0.5823 - val_accuracy: 0.6916\n",
      "Epoch 5/40\n",
      "15000/15000 [==============================] - 2s 116us/sample - loss: 0.5579 - accuracy: 0.7186 - val_loss: 0.5474 - val_accuracy: 0.7224\n",
      "Epoch 6/40\n",
      "15000/15000 [==============================] - 2s 114us/sample - loss: 0.5190 - accuracy: 0.7516 - val_loss: 0.5132 - val_accuracy: 0.7492\n",
      "Epoch 7/40\n",
      "15000/15000 [==============================] - 2s 115us/sample - loss: 0.4796 - accuracy: 0.7821 - val_loss: 0.4793 - val_accuracy: 0.7753\n",
      "Epoch 8/40\n",
      "15000/15000 [==============================] - 2s 115us/sample - loss: 0.4418 - accuracy: 0.8053 - val_loss: 0.4487 - val_accuracy: 0.7949\n",
      "Epoch 9/40\n",
      "15000/15000 [==============================] - 2s 113us/sample - loss: 0.4063 - accuracy: 0.8273 - val_loss: 0.4229 - val_accuracy: 0.8092\n",
      "Epoch 10/40\n",
      "15000/15000 [==============================] - 2s 115us/sample - loss: 0.3743 - accuracy: 0.8451 - val_loss: 0.4008 - val_accuracy: 0.8205\n",
      "Epoch 11/40\n",
      "15000/15000 [==============================] - 2s 114us/sample - loss: 0.3456 - accuracy: 0.8601 - val_loss: 0.3800 - val_accuracy: 0.8327\n",
      "Epoch 12/40\n",
      "15000/15000 [==============================] - 2s 114us/sample - loss: 0.3197 - accuracy: 0.8755 - val_loss: 0.3633 - val_accuracy: 0.8409\n",
      "Epoch 13/40\n",
      "15000/15000 [==============================] - 2s 115us/sample - loss: 0.2965 - accuracy: 0.8875 - val_loss: 0.3495 - val_accuracy: 0.8485\n",
      "Epoch 14/40\n",
      "15000/15000 [==============================] - 2s 113us/sample - loss: 0.2761 - accuracy: 0.8965 - val_loss: 0.3392 - val_accuracy: 0.8539\n",
      "Epoch 15/40\n",
      "15000/15000 [==============================] - 2s 114us/sample - loss: 0.2579 - accuracy: 0.9032 - val_loss: 0.3278 - val_accuracy: 0.8604\n",
      "Epoch 16/40\n",
      "15000/15000 [==============================] - 2s 114us/sample - loss: 0.2410 - accuracy: 0.9104 - val_loss: 0.3205 - val_accuracy: 0.8630\n",
      "Epoch 17/40\n",
      "15000/15000 [==============================] - 2s 114us/sample - loss: 0.2260 - accuracy: 0.9167 - val_loss: 0.3141 - val_accuracy: 0.8652\n",
      "Epoch 18/40\n",
      "15000/15000 [==============================] - 2s 115us/sample - loss: 0.2122 - accuracy: 0.9242 - val_loss: 0.3083 - val_accuracy: 0.8685\n",
      "Epoch 19/40\n",
      "15000/15000 [==============================] - 2s 115us/sample - loss: 0.1999 - accuracy: 0.9293 - val_loss: 0.3051 - val_accuracy: 0.8726\n",
      "Epoch 20/40\n",
      "15000/15000 [==============================] - 2s 116us/sample - loss: 0.1878 - accuracy: 0.9353 - val_loss: 0.3012 - val_accuracy: 0.8726\n",
      "Epoch 21/40\n",
      "15000/15000 [==============================] - 2s 114us/sample - loss: 0.1759 - accuracy: 0.9399 - val_loss: 0.3008 - val_accuracy: 0.8749\n",
      "Epoch 22/40\n",
      "15000/15000 [==============================] - 2s 115us/sample - loss: 0.1668 - accuracy: 0.9432 - val_loss: 0.2976 - val_accuracy: 0.8762\n",
      "Epoch 23/40\n",
      "15000/15000 [==============================] - 2s 114us/sample - loss: 0.1543 - accuracy: 0.9485 - val_loss: 0.2997 - val_accuracy: 0.8753\n",
      "Epoch 24/40\n",
      "15000/15000 [==============================] - 2s 116us/sample - loss: 0.1452 - accuracy: 0.9529 - val_loss: 0.2975 - val_accuracy: 0.8776\n",
      "Epoch 25/40\n",
      "15000/15000 [==============================] - 2s 117us/sample - loss: 0.1363 - accuracy: 0.9566 - val_loss: 0.2984 - val_accuracy: 0.8781\n",
      "Epoch 26/40\n",
      "15000/15000 [==============================] - 2s 118us/sample - loss: 0.1278 - accuracy: 0.9591 - val_loss: 0.3004 - val_accuracy: 0.8780\n",
      "Epoch 27/40\n",
      "15000/15000 [==============================] - 2s 116us/sample - loss: 0.1198 - accuracy: 0.9632 - val_loss: 0.3025 - val_accuracy: 0.8773\n",
      "Epoch 28/40\n",
      "15000/15000 [==============================] - 2s 117us/sample - loss: 0.1126 - accuracy: 0.9658 - val_loss: 0.3116 - val_accuracy: 0.8751\n",
      "Epoch 29/40\n",
      "15000/15000 [==============================] - 2s 115us/sample - loss: 0.1065 - accuracy: 0.9688 - val_loss: 0.3142 - val_accuracy: 0.8741\n",
      "Epoch 30/40\n",
      "15000/15000 [==============================] - 2s 115us/sample - loss: 0.0991 - accuracy: 0.9723 - val_loss: 0.3125 - val_accuracy: 0.8766\n",
      "Epoch 31/40\n",
      "15000/15000 [==============================] - 2s 115us/sample - loss: 0.0927 - accuracy: 0.9753 - val_loss: 0.3163 - val_accuracy: 0.8758\n",
      "Epoch 32/40\n",
      "15000/15000 [==============================] - 2s 117us/sample - loss: 0.0870 - accuracy: 0.9783 - val_loss: 0.3208 - val_accuracy: 0.8752\n",
      "Epoch 33/40\n",
      "15000/15000 [==============================] - 2s 116us/sample - loss: 0.0813 - accuracy: 0.9807 - val_loss: 0.3257 - val_accuracy: 0.8743\n",
      "Epoch 34/40\n",
      "15000/15000 [==============================] - 2s 116us/sample - loss: 0.0759 - accuracy: 0.9828 - val_loss: 0.3327 - val_accuracy: 0.8747\n",
      "Epoch 35/40\n",
      "15000/15000 [==============================] - 2s 115us/sample - loss: 0.0710 - accuracy: 0.9845 - val_loss: 0.3385 - val_accuracy: 0.8739\n",
      "Epoch 36/40\n",
      "15000/15000 [==============================] - 2s 116us/sample - loss: 0.0665 - accuracy: 0.9864 - val_loss: 0.3430 - val_accuracy: 0.8735\n",
      "Epoch 37/40\n",
      "15000/15000 [==============================] - 2s 116us/sample - loss: 0.0616 - accuracy: 0.9879 - val_loss: 0.3510 - val_accuracy: 0.8719\n",
      "Epoch 38/40\n",
      "15000/15000 [==============================] - 2s 114us/sample - loss: 0.0573 - accuracy: 0.9893 - val_loss: 0.3625 - val_accuracy: 0.8711\n",
      "Epoch 39/40\n",
      "15000/15000 [==============================] - 2s 117us/sample - loss: 0.0542 - accuracy: 0.9891 - val_loss: 0.3702 - val_accuracy: 0.8706\n",
      "Epoch 40/40\n",
      "15000/15000 [==============================] - 2s 114us/sample - loss: 0.0498 - accuracy: 0.9915 - val_loss: 0.3727 - val_accuracy: 0.8695\n"
     ]
    }
   ],
   "source": [
    "history = model.fit(partial_x_train,\n",
    "                    partial_y_train,\n",
    "                    epochs=40,\n",
    "                    batch_size=512,\n",
    "                    validation_data=(x_val, y_val),\n",
    "                    verbose=1)"
   ]
  },
  {
   "cell_type": "code",
   "execution_count": null,
   "metadata": {},
   "outputs": [],
   "source": [
    "Evaluate the neural network."
   ]
  },
  {
   "cell_type": "code",
   "execution_count": 9,
   "metadata": {},
   "outputs": [
    {
     "name": "stdout",
     "output_type": "stream",
     "text": [
      "25000/25000 [==============================] - 3s 116us/sample - loss: 0.4037 - accuracy: 0.8580\n",
      "[0.4036788517403603, 0.85804]\n"
     ]
    }
   ],
   "source": [
    "results = model.evaluate(test_data, test_labels)\n",
    "\n",
    "print(results)"
   ]
  },
  {
   "cell_type": "code",
   "execution_count": 10,
   "metadata": {},
   "outputs": [
    {
     "data": {
      "text/plain": [
       "dict_keys(['loss', 'accuracy', 'val_loss', 'val_accuracy'])"
      ]
     },
     "execution_count": 10,
     "metadata": {},
     "output_type": "execute_result"
    }
   ],
   "source": [
    "history_dict = history.history\n",
    "history_dict.keys()"
   ]
  },
  {
   "cell_type": "code",
   "execution_count": 11,
   "metadata": {},
   "outputs": [
    {
     "data": {
      "image/png": "[encoded data removed]",
      "text/plain": [
       "<Figure size 432x288 with 1 Axes>"
      ]
     },
     "metadata": {
      "needs_background": "light"
     },
     "output_type": "display_data"
    }
   ],
   "source": [
    "%matplotlib inline\n",
    "import matplotlib.pyplot as plt\n",
    "\n",
    "acc = history_dict['accuracy']\n",
    "val_acc = history_dict['val_accuracy']\n",
    "loss = history_dict['loss']\n",
    "val_loss = history_dict['val_loss']\n",
    "\n",
    "epochs = range(1, len(acc) + 1)\n",
    "\n",
    "# \"bo\" is for \"blue dot\"\n",
    "plt.plot(epochs, loss, 'bo', label='Training loss')\n",
    "# b is for \"solid blue line\"\n",
    "plt.plot(epochs, val_loss, 'b', label='Validation loss')\n",
    "plt.title('Training and validation loss')\n",
    "plt.xlabel('Epochs')\n",
    "plt.ylabel('Loss')\n",
    "plt.legend()\n",
    "\n",
    "plt.show()"
   ]
  },
  {
   "cell_type": "code",
   "execution_count": 12,
   "metadata": {},
   "outputs": [
    {
     "data": {
      "image/png": "[encoded data removed]",
      "text/plain": [
       "<Figure size 432x288 with 1 Axes>"
      ]
     },
     "metadata": {
      "needs_background": "light"
     },
     "output_type": "display_data"
    }
   ],
   "source": [
    "plt.clf()   # clear figure\n",
    "\n",
    "plt.plot(epochs, acc, 'bo', label='Training acc')\n",
    "plt.plot(epochs, val_acc, 'b', label='Validation acc')\n",
    "plt.title('Training and validation accuracy')\n",
    "plt.xlabel('Epochs')\n",
    "plt.ylabel('Accuracy')\n",
    "plt.legend()\n",
    "\n",
    "plt.show()"
   ]
  },
  {
   "cell_type": "code",
   "execution_count": null,
   "metadata": {},
   "outputs": [],
   "source": []
  }
 ],
 "metadata": {
  "anaconda-cloud": {},
  "kernelspec": {
   "display_name": "Python 3.6 (tensorflow-2.0)",
   "language": "python",
   "name": "tensorflow-2.0"
  },
  "language_info": {
   "codemirror_mode": {
    "name": "ipython",
    "version": 3
   },
   "file_extension": ".py",
   "mimetype": "text/x-python",
   "name": "python",
   "nbconvert_exporter": "python",
   "pygments_lexer": "ipython3",
   "version": "3.6.8"
  }
 },
 "nbformat": 4,
 "nbformat_minor": 4
}
